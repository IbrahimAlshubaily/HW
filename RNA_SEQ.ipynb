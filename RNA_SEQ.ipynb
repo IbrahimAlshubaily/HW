{
 "cells": [
  {
   "cell_type": "markdown",
   "metadata": {},
   "source": [
    "# Creating an interactive notebook to replicate RNA-seq Analysis"
   ]
  },
  {
   "cell_type": "markdown",
   "metadata": {},
   "source": [
    "\n",
    "## Setting up the necessary packages"
   ]
  },
  {
   "cell_type": "code",
   "execution_count": 104,
   "metadata": {},
   "outputs": [
    {
     "name": "stderr",
     "output_type": "stream",
     "text": [
      "Bioconductor version 3.7 (BiocInstaller 1.29.6), ?biocLite for help\n",
      "BioC_mirror: https://bioconductor.org\n",
      "Using Bioconductor 3.7 (BiocInstaller 1.29.6), R 3.5.0 (2018-04-23).\n",
      "Old packages: 'survival'\n",
      "BioC_mirror: https://bioconductor.org\n",
      "Using Bioconductor 3.7 (BiocInstaller 1.29.6), R 3.5.0 (2018-04-23).\n",
      "Installing package(s) ‘limma’\n"
     ]
    },
    {
     "name": "stdout",
     "output_type": "stream",
     "text": [
      "\n",
      "The downloaded binary packages are in\n",
      "\t/var/folders/bk/pl66273x47g02sw_75_69k_r0000gn/T//RtmpP3hO49/downloaded_packages\n"
     ]
    },
    {
     "name": "stderr",
     "output_type": "stream",
     "text": [
      "Old packages: 'survival'\n",
      "Bioconductor version 3.7 (BiocInstaller 1.29.6), ?biocLite for help\n",
      "BioC_mirror: https://bioconductor.org\n",
      "Using Bioconductor 3.7 (BiocInstaller 1.29.6), R 3.5.0 (2018-04-23).\n",
      "Installing package(s) ‘Glimma’, ‘Mus.musculus’\n"
     ]
    },
    {
     "name": "stdout",
     "output_type": "stream",
     "text": [
      "\n",
      "The downloaded binary packages are in\n",
      "\t/var/folders/bk/pl66273x47g02sw_75_69k_r0000gn/T//RtmpP3hO49/downloaded_packages\n"
     ]
    },
    {
     "name": "stderr",
     "output_type": "stream",
     "text": [
      "installing the source package ‘Mus.musculus’\n",
      "\n",
      "Old packages: 'survival'\n",
      "BioC_mirror: https://bioconductor.org\n",
      "Using Bioconductor 3.7 (BiocInstaller 1.29.6), R 3.5.0 (2018-04-23).\n",
      "Installing package(s) ‘RColorBrewer’\n"
     ]
    },
    {
     "name": "stdout",
     "output_type": "stream",
     "text": [
      "\n",
      "The downloaded binary packages are in\n",
      "\t/var/folders/bk/pl66273x47g02sw_75_69k_r0000gn/T//RtmpP3hO49/downloaded_packages\n"
     ]
    },
    {
     "name": "stderr",
     "output_type": "stream",
     "text": [
      "Old packages: 'survival'\n",
      "BioC_mirror: https://bioconductor.org\n",
      "Using Bioconductor 3.7 (BiocInstaller 1.29.6), R 3.5.0 (2018-04-23).\n",
      "Installing package(s) ‘gplots’\n"
     ]
    },
    {
     "name": "stdout",
     "output_type": "stream",
     "text": [
      "\n",
      "The downloaded binary packages are in\n",
      "\t/var/folders/bk/pl66273x47g02sw_75_69k_r0000gn/T//RtmpP3hO49/downloaded_packages\n"
     ]
    },
    {
     "name": "stderr",
     "output_type": "stream",
     "text": [
      "Old packages: 'survival'\n"
     ]
    }
   ],
   "source": [
    "source(\"https://bioconductor.org/biocLite.R\")\n",
    "biocLite()\n",
    "biocLite(\"limma\")\n",
    "library(limma)\n",
    "source(\"https://bioconductor.org/biocLite.R\")\n",
    "biocLite(c(\"Glimma\", \"Mus.musculus\"))\n",
    "\n",
    "biocLite(\"RColorBrewer\")\n",
    "biocLite(\"gplots\")"
   ]
  },
  {
   "cell_type": "code",
   "execution_count": 105,
   "metadata": {},
   "outputs": [],
   "source": [
    "library(Glimma)\n",
    "library(edgeR)\n",
    "library(Mus.musculus)\n"
   ]
  },
  {
   "cell_type": "code",
   "execution_count": 106,
   "metadata": {},
   "outputs": [
    {
     "name": "stderr",
     "output_type": "stream",
     "text": [
      "BioC_mirror: https://bioconductor.org\n",
      "Using Bioconductor 3.7 (BiocInstaller 1.29.6), R 3.5.0 (2018-04-23).\n",
      "Installing package(s) ‘R.utils’\n"
     ]
    },
    {
     "name": "stdout",
     "output_type": "stream",
     "text": [
      "\n",
      "The downloaded binary packages are in\n",
      "\t/var/folders/bk/pl66273x47g02sw_75_69k_r0000gn/T//RtmpP3hO49/downloaded_packages\n"
     ]
    },
    {
     "name": "stderr",
     "output_type": "stream",
     "text": [
      "Old packages: 'survival'\n"
     ]
    }
   ],
   "source": [
    "#source(\"https://github.com/HenrikBengtsson/R.utils\")\n",
    "biocLite(\"R.utils\")"
   ]
  },
  {
   "cell_type": "code",
   "execution_count": 107,
   "metadata": {},
   "outputs": [],
   "source": [
    "\n",
    "data_source_url <- \"https://www.ncbi.nlm.nih.gov/geo/download/?acc=GSE63310&format=file\"\n",
    "utils::download.file(data_source_url, destfile=\"GSE63310_RAW.tar\", mode=\"wb\") \n",
    "utils::untar(\"GSE63310_RAW.tar\", exdir = \".\")\n",
    "\n",
    "files <- c(\"GSM1545535_10_6_5_11.txt\", \"GSM1545536_9_6_5_11.txt\", \"GSM1545538_purep53.txt\",\n",
    "  \"GSM1545539_JMS8-2.txt\", \"GSM1545540_JMS8-3.txt\", \"GSM1545541_JMS8-4.txt\",\n",
    "  \"GSM1545542_JMS8-5.txt\", \"GSM1545544_JMS9-P7c.txt\", \"GSM1545545_JMS9-P8c.txt\")\n",
    "\n",
    "for(i in paste(files, \".gz\", sep=\"\"))\n",
    "  R.utils::gunzip(i, overwrite=TRUE)"
   ]
  },
  {
   "cell_type": "code",
   "execution_count": 108,
   "metadata": {},
   "outputs": [
    {
     "data": {
      "text/html": [
       "<table>\n",
       "<thead><tr><th scope=col>EntrezID</th><th scope=col>GeneLength</th><th scope=col>Count</th></tr></thead>\n",
       "<tbody>\n",
       "\t<tr><td>   497097</td><td>3634     </td><td>1        </td></tr>\n",
       "\t<tr><td>100503874</td><td>3259     </td><td>0        </td></tr>\n",
       "\t<tr><td>100038431</td><td>1634     </td><td>0        </td></tr>\n",
       "\t<tr><td>    19888</td><td>9747     </td><td>0        </td></tr>\n",
       "\t<tr><td>    20671</td><td>3130     </td><td>1        </td></tr>\n",
       "</tbody>\n",
       "</table>\n"
      ],
      "text/latex": [
       "\\begin{tabular}{r|lll}\n",
       " EntrezID & GeneLength & Count\\\\\n",
       "\\hline\n",
       "\t    497097 & 3634      & 1        \\\\\n",
       "\t 100503874 & 3259      & 0        \\\\\n",
       "\t 100038431 & 1634      & 0        \\\\\n",
       "\t     19888 & 9747      & 0        \\\\\n",
       "\t     20671 & 3130      & 1        \\\\\n",
       "\\end{tabular}\n"
      ],
      "text/markdown": [
       "\n",
       "EntrezID | GeneLength | Count | \n",
       "|---|---|---|---|---|\n",
       "|    497097 | 3634      | 1         | \n",
       "| 100503874 | 3259      | 0         | \n",
       "| 100038431 | 1634      | 0         | \n",
       "|     19888 | 9747      | 0         | \n",
       "|     20671 | 3130      | 1         | \n",
       "\n",
       "\n"
      ],
      "text/plain": [
       "  EntrezID  GeneLength Count\n",
       "1    497097 3634       1    \n",
       "2 100503874 3259       0    \n",
       "3 100038431 1634       0    \n",
       "4     19888 9747       0    \n",
       "5     20671 3130       1    "
      ]
     },
     "metadata": {},
     "output_type": "display_data"
    }
   ],
   "source": [
    "files <- c(\"GSM1545535_10_6_5_11.txt\", \"GSM1545536_9_6_5_11.txt\", \n",
    "   \"GSM1545538_purep53.txt\", \"GSM1545539_JMS8-2.txt\", \n",
    "   \"GSM1545540_JMS8-3.txt\", \"GSM1545541_JMS8-4.txt\", \n",
    "   \"GSM1545542_JMS8-5.txt\", \"GSM1545544_JMS9-P7c.txt\", \n",
    "   \"GSM1545545_JMS9-P8c.txt\")\n",
    "\n",
    "read.delim(files[1], nrow=5)"
   ]
  },
  {
   "cell_type": "markdown",
   "metadata": {},
   "source": [
    "## EntrezID is the unique identifier for a gene that resides in the NCBI's database for gene-specific information.\n",
    "\n",
    "## GeneLength is "
   ]
  },
  {
   "cell_type": "markdown",
   "metadata": {},
   "source": [
    "## readDGE produces three different tables.  There is the samples table which has information for each file that was used, a counts table which has the count of each gene from each file, and a gene table which stores gene information associated with the rows from the counts matrix."
   ]
  },
  {
   "cell_type": "code",
   "execution_count": 109,
   "metadata": {},
   "outputs": [
    {
     "data": {
      "text/html": [
       "'DGEList'"
      ],
      "text/latex": [
       "'DGEList'"
      ],
      "text/markdown": [
       "'DGEList'"
      ],
      "text/plain": [
       "[1] \"DGEList\"\n",
       "attr(,\"package\")\n",
       "[1] \"edgeR\""
      ]
     },
     "metadata": {},
     "output_type": "display_data"
    },
    {
     "data": {
      "text/html": [
       "<ol class=list-inline>\n",
       "\t<li>27179</li>\n",
       "\t<li>9</li>\n",
       "</ol>\n"
      ],
      "text/latex": [
       "\\begin{enumerate*}\n",
       "\\item 27179\n",
       "\\item 9\n",
       "\\end{enumerate*}\n"
      ],
      "text/markdown": [
       "1. 27179\n",
       "2. 9\n",
       "\n",
       "\n"
      ],
      "text/plain": [
       "[1] 27179     9"
      ]
     },
     "metadata": {},
     "output_type": "display_data"
    }
   ],
   "source": [
    "x <- readDGE(files, columns=c(1,3))\n",
    "class(x)\n",
    "dim(x)"
   ]
  },
  {
   "cell_type": "code",
   "execution_count": 110,
   "metadata": {},
   "outputs": [
    {
     "data": {
      "text/html": [
       "<table>\n",
       "<thead><tr><th></th><th scope=col>GSM1545535_10_6_5_11</th><th scope=col>GSM1545536_9_6_5_11</th><th scope=col>GSM1545538_purep53</th><th scope=col>GSM1545539_JMS8-2</th><th scope=col>GSM1545540_JMS8-3</th><th scope=col>GSM1545541_JMS8-4</th><th scope=col>GSM1545542_JMS8-5</th><th scope=col>GSM1545544_JMS9-P7c</th><th scope=col>GSM1545545_JMS9-P8c</th></tr></thead>\n",
       "<tbody>\n",
       "\t<tr><th scope=row>497097</th><td>   1</td><td>   2</td><td> 342</td><td> 526</td><td>   3</td><td>   3</td><td> 535</td><td>   2</td><td>   0</td></tr>\n",
       "\t<tr><th scope=row>100503874</th><td>   0</td><td>   0</td><td>   5</td><td>   6</td><td>   0</td><td>   0</td><td>   5</td><td>   0</td><td>   0</td></tr>\n",
       "\t<tr><th scope=row>100038431</th><td>   0</td><td>   0</td><td>   0</td><td>   0</td><td>   0</td><td>   0</td><td>   1</td><td>   0</td><td>   0</td></tr>\n",
       "\t<tr><th scope=row>19888</th><td>   0</td><td>   1</td><td>   0</td><td>   0</td><td>  17</td><td>   2</td><td>   0</td><td>   1</td><td>   0</td></tr>\n",
       "\t<tr><th scope=row>20671</th><td>   1</td><td>   1</td><td>  76</td><td>  40</td><td>  33</td><td>  14</td><td>  98</td><td>  18</td><td>   8</td></tr>\n",
       "\t<tr><th scope=row>27395</th><td> 431</td><td> 771</td><td>1368</td><td>1268</td><td>1564</td><td> 769</td><td> 818</td><td> 468</td><td> 342</td></tr>\n",
       "\t<tr><th scope=row>18777</th><td> 768</td><td>1722</td><td>2517</td><td>1923</td><td>3865</td><td>1888</td><td>1830</td><td>1246</td><td> 693</td></tr>\n",
       "\t<tr><th scope=row>100503730</th><td>   4</td><td>   8</td><td>   6</td><td>   2</td><td>  11</td><td>  11</td><td>   3</td><td>   9</td><td>   2</td></tr>\n",
       "\t<tr><th scope=row>21399</th><td> 810</td><td> 977</td><td>2472</td><td>1870</td><td>2251</td><td>1716</td><td>1932</td><td> 756</td><td> 619</td></tr>\n",
       "\t<tr><th scope=row>58175</th><td> 452</td><td> 358</td><td>  17</td><td>  14</td><td> 622</td><td> 571</td><td>  12</td><td> 203</td><td> 224</td></tr>\n",
       "\t<tr><th scope=row>108664</th><td>1716</td><td>2678</td><td>2097</td><td>2071</td><td>5499</td><td>3630</td><td>1731</td><td>1715</td><td>1251</td></tr>\n",
       "\t<tr><th scope=row>18387</th><td>   0</td><td>   0</td><td>   0</td><td>   0</td><td>   0</td><td>   0</td><td>   0</td><td>   0</td><td>   0</td></tr>\n",
       "\t<tr><th scope=row>226304</th><td>   0</td><td>   0</td><td>   0</td><td>   0</td><td>   0</td><td>   0</td><td>   0</td><td>   0</td><td>   0</td></tr>\n",
       "\t<tr><th scope=row>12421</th><td>3451</td><td>2699</td><td>3399</td><td>2716</td><td>5233</td><td>6280</td><td>3647</td><td>1866</td><td>2122</td></tr>\n",
       "\t<tr><th scope=row>620393</th><td>   0</td><td>   0</td><td>   2</td><td>   3</td><td>   0</td><td>   0</td><td>   0</td><td>   0</td><td>   0</td></tr>\n",
       "\t<tr><th scope=row>240690</th><td>   0</td><td>   0</td><td>   0</td><td>   1</td><td>   0</td><td>   0</td><td>   0</td><td>   0</td><td>   0</td></tr>\n",
       "\t<tr><th scope=row>319263</th><td>2026</td><td>2033</td><td>3920</td><td>2715</td><td>3873</td><td>3688</td><td>3593</td><td>1609</td><td>1348</td></tr>\n",
       "\t<tr><th scope=row>71096</th><td>   0</td><td>   0</td><td>   1</td><td>   5</td><td>   0</td><td>   0</td><td>   4</td><td>   0</td><td>   0</td></tr>\n",
       "\t<tr><th scope=row>59014</th><td> 956</td><td> 985</td><td>5497</td><td>4214</td><td>3462</td><td>2933</td><td>5336</td><td> 649</td><td> 731</td></tr>\n",
       "\t<tr><th scope=row>76187</th><td>  54</td><td>  76</td><td>  46</td><td>  32</td><td> 148</td><td> 126</td><td>  59</td><td>  44</td><td>  27</td></tr>\n",
       "\t<tr><th scope=row>72481</th><td>  16</td><td>  28</td><td>  12</td><td>  12</td><td>  67</td><td>  24</td><td>  14</td><td>  18</td><td>  11</td></tr>\n",
       "\t<tr><th scope=row>76982</th><td>  21</td><td>   9</td><td>  21</td><td>  44</td><td>  35</td><td>  34</td><td>  29</td><td>   8</td><td>  15</td></tr>\n",
       "\t<tr><th scope=row>17864</th><td> 194</td><td> 166</td><td>1007</td><td> 862</td><td> 632</td><td> 594</td><td> 901</td><td> 100</td><td> 131</td></tr>\n",
       "\t<tr><th scope=row>70675</th><td>2390</td><td>2012</td><td>3500</td><td>3020</td><td>5412</td><td>4404</td><td>4173</td><td>1585</td><td>1522</td></tr>\n",
       "\t<tr><th scope=row>73331</th><td>   3</td><td>   2</td><td>   4</td><td>   1</td><td>   1</td><td>   5</td><td>   2</td><td>   3</td><td>   0</td></tr>\n",
       "\t<tr><th scope=row>170755</th><td>  87</td><td> 323</td><td> 734</td><td> 565</td><td> 721</td><td> 249</td><td> 666</td><td> 267</td><td> 113</td></tr>\n",
       "\t<tr><th scope=row>620986</th><td>  71</td><td> 194</td><td> 383</td><td> 206</td><td> 307</td><td> 110</td><td> 206</td><td> 112</td><td>  50</td></tr>\n",
       "\t<tr><th scope=row>240697</th><td>   0</td><td>   0</td><td>   9</td><td>   8</td><td>   3</td><td>   1</td><td>   7</td><td>   0</td><td>   1</td></tr>\n",
       "\t<tr><th scope=row>73824</th><td> 289</td><td> 487</td><td> 824</td><td> 565</td><td> 709</td><td> 517</td><td> 662</td><td> 335</td><td> 271</td></tr>\n",
       "\t<tr><th scope=row>266793</th><td>   4</td><td>   6</td><td>  54</td><td>  10</td><td>  18</td><td>  19</td><td>  43</td><td>   9</td><td>   6</td></tr>\n",
       "\t<tr><th scope=row>⋮</th><td>⋮</td><td>⋮</td><td>⋮</td><td>⋮</td><td>⋮</td><td>⋮</td><td>⋮</td><td>⋮</td><td>⋮</td></tr>\n",
       "\t<tr><th scope=row>100041168</th><td>  0 </td><td>  0 </td><td>   0</td><td>  0 </td><td>   0</td><td>   0</td><td>   0</td><td>  0 </td><td>  0 </td></tr>\n",
       "\t<tr><th scope=row>100041207</th><td>  0 </td><td>  0 </td><td>   0</td><td>  0 </td><td>   0</td><td>   0</td><td>   0</td><td>  0 </td><td>  0 </td></tr>\n",
       "\t<tr><th scope=row>100861637</th><td>  0 </td><td>  0 </td><td>   0</td><td>  0 </td><td>   0</td><td>   0</td><td>   0</td><td>  0 </td><td>  0 </td></tr>\n",
       "\t<tr><th scope=row>100861988</th><td>  0 </td><td>  0 </td><td>   0</td><td>  0 </td><td>   0</td><td>   0</td><td>   0</td><td>  0 </td><td>  0 </td></tr>\n",
       "\t<tr><th scope=row>100862006</th><td>  0 </td><td>  0 </td><td>   0</td><td>  0 </td><td>   0</td><td>   0</td><td>   0</td><td>  0 </td><td>  0 </td></tr>\n",
       "\t<tr><th scope=row>100862025</th><td>  0 </td><td>  0 </td><td>   0</td><td>  0 </td><td>   0</td><td>   0</td><td>   0</td><td>  0 </td><td>  0 </td></tr>\n",
       "\t<tr><th scope=row>100040991</th><td>  0 </td><td>  0 </td><td>   0</td><td>  0 </td><td>   0</td><td>   0</td><td>   0</td><td>  0 </td><td>  0 </td></tr>\n",
       "\t<tr><th scope=row>100040911</th><td>  0 </td><td>  0 </td><td>   0</td><td>  0 </td><td>   0</td><td>   0</td><td>   0</td><td>  0 </td><td>  0 </td></tr>\n",
       "\t<tr><th scope=row>100862053</th><td>  0 </td><td>  0 </td><td>   0</td><td>  0 </td><td>   0</td><td>   0</td><td>   0</td><td>  0 </td><td>  0 </td></tr>\n",
       "\t<tr><th scope=row>100039905</th><td>  0 </td><td>  0 </td><td>   0</td><td>  0 </td><td>   0</td><td>   0</td><td>   0</td><td>  0 </td><td>  0 </td></tr>\n",
       "\t<tr><th scope=row>100041141</th><td>  0 </td><td>  0 </td><td>   0</td><td>  0 </td><td>   0</td><td>   0</td><td>   0</td><td>  0 </td><td>  0 </td></tr>\n",
       "\t<tr><th scope=row>100041117</th><td>  0 </td><td>  0 </td><td>   0</td><td>  0 </td><td>   0</td><td>   0</td><td>   0</td><td>  0 </td><td>  0 </td></tr>\n",
       "\t<tr><th scope=row>100862083</th><td>  0 </td><td>  0 </td><td>   0</td><td>  0 </td><td>   0</td><td>   0</td><td>   0</td><td>  0 </td><td>  0 </td></tr>\n",
       "\t<tr><th scope=row>100862092</th><td>  0 </td><td>  0 </td><td>   0</td><td>  0 </td><td>   0</td><td>   0</td><td>   0</td><td>  0 </td><td>  0 </td></tr>\n",
       "\t<tr><th scope=row>100862100</th><td>  0 </td><td>  0 </td><td>   0</td><td>  0 </td><td>   0</td><td>   0</td><td>   0</td><td>  0 </td><td>  0 </td></tr>\n",
       "\t<tr><th scope=row>100042201</th><td>  0 </td><td>  0 </td><td>   0</td><td>  0 </td><td>   0</td><td>   0</td><td>   0</td><td>  0 </td><td>  0 </td></tr>\n",
       "\t<tr><th scope=row>100039904</th><td>  0 </td><td>  0 </td><td>   0</td><td>  0 </td><td>   0</td><td>   0</td><td>   0</td><td>  0 </td><td>  0 </td></tr>\n",
       "\t<tr><th scope=row>100861873</th><td>  0 </td><td>  0 </td><td>   0</td><td>  0 </td><td>   0</td><td>   0</td><td>   0</td><td>  0 </td><td>  0 </td></tr>\n",
       "\t<tr><th scope=row>100861881</th><td>  0 </td><td>  0 </td><td>   0</td><td>  0 </td><td>   0</td><td>   0</td><td>   0</td><td>  0 </td><td>  0 </td></tr>\n",
       "\t<tr><th scope=row>100504642</th><td>  0 </td><td>  0 </td><td>   0</td><td>  0 </td><td>   0</td><td>   0</td><td>   0</td><td>  0 </td><td>  0 </td></tr>\n",
       "\t<tr><th scope=row>100041631</th><td>  0 </td><td>  0 </td><td>   0</td><td>  0 </td><td>   0</td><td>   0</td><td>   0</td><td>  0 </td><td>  0 </td></tr>\n",
       "\t<tr><th scope=row>100504702</th><td>  0 </td><td>  0 </td><td>   0</td><td>  0 </td><td>   0</td><td>   0</td><td>   0</td><td>  0 </td><td>  0 </td></tr>\n",
       "\t<tr><th scope=row>100040357</th><td>  0 </td><td>  0 </td><td>   0</td><td>  0 </td><td>   0</td><td>   0</td><td>   0</td><td>  0 </td><td>  0 </td></tr>\n",
       "\t<tr><th scope=row>100861808</th><td>  0 </td><td>  0 </td><td>   0</td><td>  0 </td><td>   0</td><td>   0</td><td>   0</td><td>  0 </td><td>  0 </td></tr>\n",
       "\t<tr><th scope=row>100504460</th><td>  0 </td><td>  0 </td><td>   0</td><td>  0 </td><td>   0</td><td>   0</td><td>   0</td><td>  0 </td><td>  0 </td></tr>\n",
       "\t<tr><th scope=row>100861837</th><td>320 </td><td>472 </td><td> 582</td><td>335 </td><td> 811</td><td> 432</td><td> 500</td><td>200 </td><td> 84 </td></tr>\n",
       "\t<tr><th scope=row>100861924</th><td> 15 </td><td> 27 </td><td> 126</td><td>  7 </td><td>  17</td><td>  22</td><td>  35</td><td>  3 </td><td>  2 </td></tr>\n",
       "\t<tr><th scope=row>170942</th><td>824 </td><td>769 </td><td>1337</td><td>781 </td><td>1266</td><td>1089</td><td>1274</td><td>469 </td><td>379 </td></tr>\n",
       "\t<tr><th scope=row>100861691</th><td>  0 </td><td>  0 </td><td>   0</td><td>  0 </td><td>   0</td><td>   0</td><td>   0</td><td>  0 </td><td>  0 </td></tr>\n",
       "\t<tr><th scope=row>100504472</th><td>  0 </td><td>  0 </td><td>   0</td><td>  0 </td><td>   0</td><td>   0</td><td>   0</td><td>  0 </td><td>  0 </td></tr>\n",
       "</tbody>\n",
       "</table>\n"
      ],
      "text/latex": [
       "\\begin{tabular}{r|lllllllll}\n",
       "  & GSM1545535\\_10\\_6\\_5\\_11 & GSM1545536\\_9\\_6\\_5\\_11 & GSM1545538\\_purep53 & GSM1545539\\_JMS8-2 & GSM1545540\\_JMS8-3 & GSM1545541\\_JMS8-4 & GSM1545542\\_JMS8-5 & GSM1545544\\_JMS9-P7c & GSM1545545\\_JMS9-P8c\\\\\n",
       "\\hline\n",
       "\t497097 &    1 &    2 &  342 &  526 &    3 &    3 &  535 &    2 &    0\\\\\n",
       "\t100503874 &    0 &    0 &    5 &    6 &    0 &    0 &    5 &    0 &    0\\\\\n",
       "\t100038431 &    0 &    0 &    0 &    0 &    0 &    0 &    1 &    0 &    0\\\\\n",
       "\t19888 &    0 &    1 &    0 &    0 &   17 &    2 &    0 &    1 &    0\\\\\n",
       "\t20671 &    1 &    1 &   76 &   40 &   33 &   14 &   98 &   18 &    8\\\\\n",
       "\t27395 &  431 &  771 & 1368 & 1268 & 1564 &  769 &  818 &  468 &  342\\\\\n",
       "\t18777 &  768 & 1722 & 2517 & 1923 & 3865 & 1888 & 1830 & 1246 &  693\\\\\n",
       "\t100503730 &    4 &    8 &    6 &    2 &   11 &   11 &    3 &    9 &    2\\\\\n",
       "\t21399 &  810 &  977 & 2472 & 1870 & 2251 & 1716 & 1932 &  756 &  619\\\\\n",
       "\t58175 &  452 &  358 &   17 &   14 &  622 &  571 &   12 &  203 &  224\\\\\n",
       "\t108664 & 1716 & 2678 & 2097 & 2071 & 5499 & 3630 & 1731 & 1715 & 1251\\\\\n",
       "\t18387 &    0 &    0 &    0 &    0 &    0 &    0 &    0 &    0 &    0\\\\\n",
       "\t226304 &    0 &    0 &    0 &    0 &    0 &    0 &    0 &    0 &    0\\\\\n",
       "\t12421 & 3451 & 2699 & 3399 & 2716 & 5233 & 6280 & 3647 & 1866 & 2122\\\\\n",
       "\t620393 &    0 &    0 &    2 &    3 &    0 &    0 &    0 &    0 &    0\\\\\n",
       "\t240690 &    0 &    0 &    0 &    1 &    0 &    0 &    0 &    0 &    0\\\\\n",
       "\t319263 & 2026 & 2033 & 3920 & 2715 & 3873 & 3688 & 3593 & 1609 & 1348\\\\\n",
       "\t71096 &    0 &    0 &    1 &    5 &    0 &    0 &    4 &    0 &    0\\\\\n",
       "\t59014 &  956 &  985 & 5497 & 4214 & 3462 & 2933 & 5336 &  649 &  731\\\\\n",
       "\t76187 &   54 &   76 &   46 &   32 &  148 &  126 &   59 &   44 &   27\\\\\n",
       "\t72481 &   16 &   28 &   12 &   12 &   67 &   24 &   14 &   18 &   11\\\\\n",
       "\t76982 &   21 &    9 &   21 &   44 &   35 &   34 &   29 &    8 &   15\\\\\n",
       "\t17864 &  194 &  166 & 1007 &  862 &  632 &  594 &  901 &  100 &  131\\\\\n",
       "\t70675 & 2390 & 2012 & 3500 & 3020 & 5412 & 4404 & 4173 & 1585 & 1522\\\\\n",
       "\t73331 &    3 &    2 &    4 &    1 &    1 &    5 &    2 &    3 &    0\\\\\n",
       "\t170755 &   87 &  323 &  734 &  565 &  721 &  249 &  666 &  267 &  113\\\\\n",
       "\t620986 &   71 &  194 &  383 &  206 &  307 &  110 &  206 &  112 &   50\\\\\n",
       "\t240697 &    0 &    0 &    9 &    8 &    3 &    1 &    7 &    0 &    1\\\\\n",
       "\t73824 &  289 &  487 &  824 &  565 &  709 &  517 &  662 &  335 &  271\\\\\n",
       "\t266793 &    4 &    6 &   54 &   10 &   18 &   19 &   43 &    9 &    6\\\\\n",
       "\t⋮ & ⋮ & ⋮ & ⋮ & ⋮ & ⋮ & ⋮ & ⋮ & ⋮ & ⋮\\\\\n",
       "\t100041168 &   0  &   0  &    0 &   0  &    0 &    0 &    0 &   0  &   0 \\\\\n",
       "\t100041207 &   0  &   0  &    0 &   0  &    0 &    0 &    0 &   0  &   0 \\\\\n",
       "\t100861637 &   0  &   0  &    0 &   0  &    0 &    0 &    0 &   0  &   0 \\\\\n",
       "\t100861988 &   0  &   0  &    0 &   0  &    0 &    0 &    0 &   0  &   0 \\\\\n",
       "\t100862006 &   0  &   0  &    0 &   0  &    0 &    0 &    0 &   0  &   0 \\\\\n",
       "\t100862025 &   0  &   0  &    0 &   0  &    0 &    0 &    0 &   0  &   0 \\\\\n",
       "\t100040991 &   0  &   0  &    0 &   0  &    0 &    0 &    0 &   0  &   0 \\\\\n",
       "\t100040911 &   0  &   0  &    0 &   0  &    0 &    0 &    0 &   0  &   0 \\\\\n",
       "\t100862053 &   0  &   0  &    0 &   0  &    0 &    0 &    0 &   0  &   0 \\\\\n",
       "\t100039905 &   0  &   0  &    0 &   0  &    0 &    0 &    0 &   0  &   0 \\\\\n",
       "\t100041141 &   0  &   0  &    0 &   0  &    0 &    0 &    0 &   0  &   0 \\\\\n",
       "\t100041117 &   0  &   0  &    0 &   0  &    0 &    0 &    0 &   0  &   0 \\\\\n",
       "\t100862083 &   0  &   0  &    0 &   0  &    0 &    0 &    0 &   0  &   0 \\\\\n",
       "\t100862092 &   0  &   0  &    0 &   0  &    0 &    0 &    0 &   0  &   0 \\\\\n",
       "\t100862100 &   0  &   0  &    0 &   0  &    0 &    0 &    0 &   0  &   0 \\\\\n",
       "\t100042201 &   0  &   0  &    0 &   0  &    0 &    0 &    0 &   0  &   0 \\\\\n",
       "\t100039904 &   0  &   0  &    0 &   0  &    0 &    0 &    0 &   0  &   0 \\\\\n",
       "\t100861873 &   0  &   0  &    0 &   0  &    0 &    0 &    0 &   0  &   0 \\\\\n",
       "\t100861881 &   0  &   0  &    0 &   0  &    0 &    0 &    0 &   0  &   0 \\\\\n",
       "\t100504642 &   0  &   0  &    0 &   0  &    0 &    0 &    0 &   0  &   0 \\\\\n",
       "\t100041631 &   0  &   0  &    0 &   0  &    0 &    0 &    0 &   0  &   0 \\\\\n",
       "\t100504702 &   0  &   0  &    0 &   0  &    0 &    0 &    0 &   0  &   0 \\\\\n",
       "\t100040357 &   0  &   0  &    0 &   0  &    0 &    0 &    0 &   0  &   0 \\\\\n",
       "\t100861808 &   0  &   0  &    0 &   0  &    0 &    0 &    0 &   0  &   0 \\\\\n",
       "\t100504460 &   0  &   0  &    0 &   0  &    0 &    0 &    0 &   0  &   0 \\\\\n",
       "\t100861837 & 320  & 472  &  582 & 335  &  811 &  432 &  500 & 200  &  84 \\\\\n",
       "\t100861924 &  15  &  27  &  126 &   7  &   17 &   22 &   35 &   3  &   2 \\\\\n",
       "\t170942 & 824  & 769  & 1337 & 781  & 1266 & 1089 & 1274 & 469  & 379 \\\\\n",
       "\t100861691 &   0  &   0  &    0 &   0  &    0 &    0 &    0 &   0  &   0 \\\\\n",
       "\t100504472 &   0  &   0  &    0 &   0  &    0 &    0 &    0 &   0  &   0 \\\\\n",
       "\\end{tabular}\n"
      ],
      "text/markdown": [
       "\n",
       "| <!--/--> | GSM1545535_10_6_5_11 | GSM1545536_9_6_5_11 | GSM1545538_purep53 | GSM1545539_JMS8-2 | GSM1545540_JMS8-3 | GSM1545541_JMS8-4 | GSM1545542_JMS8-5 | GSM1545544_JMS9-P7c | GSM1545545_JMS9-P8c | \n",
       "|---|---|---|---|---|---|---|---|---|---|---|---|---|---|---|---|---|---|---|---|---|---|---|---|---|---|---|---|---|---|---|---|---|---|---|---|---|---|---|---|---|---|---|---|---|---|---|---|---|---|---|---|---|---|---|---|---|---|---|---|---|\n",
       "| 497097 |    1 |    2 |  342 |  526 |    3 |    3 |  535 |    2 |    0 | \n",
       "| 100503874 |    0 |    0 |    5 |    6 |    0 |    0 |    5 |    0 |    0 | \n",
       "| 100038431 |    0 |    0 |    0 |    0 |    0 |    0 |    1 |    0 |    0 | \n",
       "| 19888 |    0 |    1 |    0 |    0 |   17 |    2 |    0 |    1 |    0 | \n",
       "| 20671 |    1 |    1 |   76 |   40 |   33 |   14 |   98 |   18 |    8 | \n",
       "| 27395 |  431 |  771 | 1368 | 1268 | 1564 |  769 |  818 |  468 |  342 | \n",
       "| 18777 |  768 | 1722 | 2517 | 1923 | 3865 | 1888 | 1830 | 1246 |  693 | \n",
       "| 100503730 |    4 |    8 |    6 |    2 |   11 |   11 |    3 |    9 |    2 | \n",
       "| 21399 |  810 |  977 | 2472 | 1870 | 2251 | 1716 | 1932 |  756 |  619 | \n",
       "| 58175 |  452 |  358 |   17 |   14 |  622 |  571 |   12 |  203 |  224 | \n",
       "| 108664 | 1716 | 2678 | 2097 | 2071 | 5499 | 3630 | 1731 | 1715 | 1251 | \n",
       "| 18387 |    0 |    0 |    0 |    0 |    0 |    0 |    0 |    0 |    0 | \n",
       "| 226304 |    0 |    0 |    0 |    0 |    0 |    0 |    0 |    0 |    0 | \n",
       "| 12421 | 3451 | 2699 | 3399 | 2716 | 5233 | 6280 | 3647 | 1866 | 2122 | \n",
       "| 620393 |    0 |    0 |    2 |    3 |    0 |    0 |    0 |    0 |    0 | \n",
       "| 240690 |    0 |    0 |    0 |    1 |    0 |    0 |    0 |    0 |    0 | \n",
       "| 319263 | 2026 | 2033 | 3920 | 2715 | 3873 | 3688 | 3593 | 1609 | 1348 | \n",
       "| 71096 |    0 |    0 |    1 |    5 |    0 |    0 |    4 |    0 |    0 | \n",
       "| 59014 |  956 |  985 | 5497 | 4214 | 3462 | 2933 | 5336 |  649 |  731 | \n",
       "| 76187 |   54 |   76 |   46 |   32 |  148 |  126 |   59 |   44 |   27 | \n",
       "| 72481 |   16 |   28 |   12 |   12 |   67 |   24 |   14 |   18 |   11 | \n",
       "| 76982 |   21 |    9 |   21 |   44 |   35 |   34 |   29 |    8 |   15 | \n",
       "| 17864 |  194 |  166 | 1007 |  862 |  632 |  594 |  901 |  100 |  131 | \n",
       "| 70675 | 2390 | 2012 | 3500 | 3020 | 5412 | 4404 | 4173 | 1585 | 1522 | \n",
       "| 73331 |    3 |    2 |    4 |    1 |    1 |    5 |    2 |    3 |    0 | \n",
       "| 170755 |   87 |  323 |  734 |  565 |  721 |  249 |  666 |  267 |  113 | \n",
       "| 620986 |   71 |  194 |  383 |  206 |  307 |  110 |  206 |  112 |   50 | \n",
       "| 240697 |    0 |    0 |    9 |    8 |    3 |    1 |    7 |    0 |    1 | \n",
       "| 73824 |  289 |  487 |  824 |  565 |  709 |  517 |  662 |  335 |  271 | \n",
       "| 266793 |    4 |    6 |   54 |   10 |   18 |   19 |   43 |    9 |    6 | \n",
       "| ⋮ | ⋮ | ⋮ | ⋮ | ⋮ | ⋮ | ⋮ | ⋮ | ⋮ | ⋮ | \n",
       "| 100041168 |   0  |   0  |    0 |   0  |    0 |    0 |    0 |   0  |   0  | \n",
       "| 100041207 |   0  |   0  |    0 |   0  |    0 |    0 |    0 |   0  |   0  | \n",
       "| 100861637 |   0  |   0  |    0 |   0  |    0 |    0 |    0 |   0  |   0  | \n",
       "| 100861988 |   0  |   0  |    0 |   0  |    0 |    0 |    0 |   0  |   0  | \n",
       "| 100862006 |   0  |   0  |    0 |   0  |    0 |    0 |    0 |   0  |   0  | \n",
       "| 100862025 |   0  |   0  |    0 |   0  |    0 |    0 |    0 |   0  |   0  | \n",
       "| 100040991 |   0  |   0  |    0 |   0  |    0 |    0 |    0 |   0  |   0  | \n",
       "| 100040911 |   0  |   0  |    0 |   0  |    0 |    0 |    0 |   0  |   0  | \n",
       "| 100862053 |   0  |   0  |    0 |   0  |    0 |    0 |    0 |   0  |   0  | \n",
       "| 100039905 |   0  |   0  |    0 |   0  |    0 |    0 |    0 |   0  |   0  | \n",
       "| 100041141 |   0  |   0  |    0 |   0  |    0 |    0 |    0 |   0  |   0  | \n",
       "| 100041117 |   0  |   0  |    0 |   0  |    0 |    0 |    0 |   0  |   0  | \n",
       "| 100862083 |   0  |   0  |    0 |   0  |    0 |    0 |    0 |   0  |   0  | \n",
       "| 100862092 |   0  |   0  |    0 |   0  |    0 |    0 |    0 |   0  |   0  | \n",
       "| 100862100 |   0  |   0  |    0 |   0  |    0 |    0 |    0 |   0  |   0  | \n",
       "| 100042201 |   0  |   0  |    0 |   0  |    0 |    0 |    0 |   0  |   0  | \n",
       "| 100039904 |   0  |   0  |    0 |   0  |    0 |    0 |    0 |   0  |   0  | \n",
       "| 100861873 |   0  |   0  |    0 |   0  |    0 |    0 |    0 |   0  |   0  | \n",
       "| 100861881 |   0  |   0  |    0 |   0  |    0 |    0 |    0 |   0  |   0  | \n",
       "| 100504642 |   0  |   0  |    0 |   0  |    0 |    0 |    0 |   0  |   0  | \n",
       "| 100041631 |   0  |   0  |    0 |   0  |    0 |    0 |    0 |   0  |   0  | \n",
       "| 100504702 |   0  |   0  |    0 |   0  |    0 |    0 |    0 |   0  |   0  | \n",
       "| 100040357 |   0  |   0  |    0 |   0  |    0 |    0 |    0 |   0  |   0  | \n",
       "| 100861808 |   0  |   0  |    0 |   0  |    0 |    0 |    0 |   0  |   0  | \n",
       "| 100504460 |   0  |   0  |    0 |   0  |    0 |    0 |    0 |   0  |   0  | \n",
       "| 100861837 | 320  | 472  |  582 | 335  |  811 |  432 |  500 | 200  |  84  | \n",
       "| 100861924 |  15  |  27  |  126 |   7  |   17 |   22 |   35 |   3  |   2  | \n",
       "| 170942 | 824  | 769  | 1337 | 781  | 1266 | 1089 | 1274 | 469  | 379  | \n",
       "| 100861691 |   0  |   0  |    0 |   0  |    0 |    0 |    0 |   0  |   0  | \n",
       "| 100504472 |   0  |   0  |    0 |   0  |    0 |    0 |    0 |   0  |   0  | \n",
       "\n",
       "\n"
      ],
      "text/plain": [
       "          GSM1545535_10_6_5_11 GSM1545536_9_6_5_11 GSM1545538_purep53\n",
       "497097       1                    2                 342              \n",
       "100503874    0                    0                   5              \n",
       "100038431    0                    0                   0              \n",
       "19888        0                    1                   0              \n",
       "20671        1                    1                  76              \n",
       "27395      431                  771                1368              \n",
       "18777      768                 1722                2517              \n",
       "100503730    4                    8                   6              \n",
       "21399      810                  977                2472              \n",
       "58175      452                  358                  17              \n",
       "108664    1716                 2678                2097              \n",
       "18387        0                    0                   0              \n",
       "226304       0                    0                   0              \n",
       "12421     3451                 2699                3399              \n",
       "620393       0                    0                   2              \n",
       "240690       0                    0                   0              \n",
       "319263    2026                 2033                3920              \n",
       "71096        0                    0                   1              \n",
       "59014      956                  985                5497              \n",
       "76187       54                   76                  46              \n",
       "72481       16                   28                  12              \n",
       "76982       21                    9                  21              \n",
       "17864      194                  166                1007              \n",
       "70675     2390                 2012                3500              \n",
       "73331        3                    2                   4              \n",
       "170755      87                  323                 734              \n",
       "620986      71                  194                 383              \n",
       "240697       0                    0                   9              \n",
       "73824      289                  487                 824              \n",
       "266793       4                    6                  54              \n",
       "⋮         ⋮                    ⋮                   ⋮                 \n",
       "100041168   0                    0                    0              \n",
       "100041207   0                    0                    0              \n",
       "100861637   0                    0                    0              \n",
       "100861988   0                    0                    0              \n",
       "100862006   0                    0                    0              \n",
       "100862025   0                    0                    0              \n",
       "100040991   0                    0                    0              \n",
       "100040911   0                    0                    0              \n",
       "100862053   0                    0                    0              \n",
       "100039905   0                    0                    0              \n",
       "100041141   0                    0                    0              \n",
       "100041117   0                    0                    0              \n",
       "100862083   0                    0                    0              \n",
       "100862092   0                    0                    0              \n",
       "100862100   0                    0                    0              \n",
       "100042201   0                    0                    0              \n",
       "100039904   0                    0                    0              \n",
       "100861873   0                    0                    0              \n",
       "100861881   0                    0                    0              \n",
       "100504642   0                    0                    0              \n",
       "100041631   0                    0                    0              \n",
       "100504702   0                    0                    0              \n",
       "100040357   0                    0                    0              \n",
       "100861808   0                    0                    0              \n",
       "100504460   0                    0                    0              \n",
       "100861837 320                  472                  582              \n",
       "100861924  15                   27                  126              \n",
       "170942    824                  769                 1337              \n",
       "100861691   0                    0                    0              \n",
       "100504472   0                    0                    0              \n",
       "          GSM1545539_JMS8-2 GSM1545540_JMS8-3 GSM1545541_JMS8-4\n",
       "497097     526                 3                 3             \n",
       "100503874    6                 0                 0             \n",
       "100038431    0                 0                 0             \n",
       "19888        0                17                 2             \n",
       "20671       40                33                14             \n",
       "27395     1268              1564               769             \n",
       "18777     1923              3865              1888             \n",
       "100503730    2                11                11             \n",
       "21399     1870              2251              1716             \n",
       "58175       14               622               571             \n",
       "108664    2071              5499              3630             \n",
       "18387        0                 0                 0             \n",
       "226304       0                 0                 0             \n",
       "12421     2716              5233              6280             \n",
       "620393       3                 0                 0             \n",
       "240690       1                 0                 0             \n",
       "319263    2715              3873              3688             \n",
       "71096        5                 0                 0             \n",
       "59014     4214              3462              2933             \n",
       "76187       32               148               126             \n",
       "72481       12                67                24             \n",
       "76982       44                35                34             \n",
       "17864      862               632               594             \n",
       "70675     3020              5412              4404             \n",
       "73331        1                 1                 5             \n",
       "170755     565               721               249             \n",
       "620986     206               307               110             \n",
       "240697       8                 3                 1             \n",
       "73824      565               709               517             \n",
       "266793      10                18                19             \n",
       "⋮         ⋮                 ⋮                 ⋮                \n",
       "100041168   0                  0                 0             \n",
       "100041207   0                  0                 0             \n",
       "100861637   0                  0                 0             \n",
       "100861988   0                  0                 0             \n",
       "100862006   0                  0                 0             \n",
       "100862025   0                  0                 0             \n",
       "100040991   0                  0                 0             \n",
       "100040911   0                  0                 0             \n",
       "100862053   0                  0                 0             \n",
       "100039905   0                  0                 0             \n",
       "100041141   0                  0                 0             \n",
       "100041117   0                  0                 0             \n",
       "100862083   0                  0                 0             \n",
       "100862092   0                  0                 0             \n",
       "100862100   0                  0                 0             \n",
       "100042201   0                  0                 0             \n",
       "100039904   0                  0                 0             \n",
       "100861873   0                  0                 0             \n",
       "100861881   0                  0                 0             \n",
       "100504642   0                  0                 0             \n",
       "100041631   0                  0                 0             \n",
       "100504702   0                  0                 0             \n",
       "100040357   0                  0                 0             \n",
       "100861808   0                  0                 0             \n",
       "100504460   0                  0                 0             \n",
       "100861837 335                811               432             \n",
       "100861924   7                 17                22             \n",
       "170942    781               1266              1089             \n",
       "100861691   0                  0                 0             \n",
       "100504472   0                  0                 0             \n",
       "          GSM1545542_JMS8-5 GSM1545544_JMS9-P7c GSM1545545_JMS9-P8c\n",
       "497097     535                 2                   0               \n",
       "100503874    5                 0                   0               \n",
       "100038431    1                 0                   0               \n",
       "19888        0                 1                   0               \n",
       "20671       98                18                   8               \n",
       "27395      818               468                 342               \n",
       "18777     1830              1246                 693               \n",
       "100503730    3                 9                   2               \n",
       "21399     1932               756                 619               \n",
       "58175       12               203                 224               \n",
       "108664    1731              1715                1251               \n",
       "18387        0                 0                   0               \n",
       "226304       0                 0                   0               \n",
       "12421     3647              1866                2122               \n",
       "620393       0                 0                   0               \n",
       "240690       0                 0                   0               \n",
       "319263    3593              1609                1348               \n",
       "71096        4                 0                   0               \n",
       "59014     5336               649                 731               \n",
       "76187       59                44                  27               \n",
       "72481       14                18                  11               \n",
       "76982       29                 8                  15               \n",
       "17864      901               100                 131               \n",
       "70675     4173              1585                1522               \n",
       "73331        2                 3                   0               \n",
       "170755     666               267                 113               \n",
       "620986     206               112                  50               \n",
       "240697       7                 0                   1               \n",
       "73824      662               335                 271               \n",
       "266793      43                 9                   6               \n",
       "⋮         ⋮                 ⋮                   ⋮                  \n",
       "100041168    0                0                   0                \n",
       "100041207    0                0                   0                \n",
       "100861637    0                0                   0                \n",
       "100861988    0                0                   0                \n",
       "100862006    0                0                   0                \n",
       "100862025    0                0                   0                \n",
       "100040991    0                0                   0                \n",
       "100040911    0                0                   0                \n",
       "100862053    0                0                   0                \n",
       "100039905    0                0                   0                \n",
       "100041141    0                0                   0                \n",
       "100041117    0                0                   0                \n",
       "100862083    0                0                   0                \n",
       "100862092    0                0                   0                \n",
       "100862100    0                0                   0                \n",
       "100042201    0                0                   0                \n",
       "100039904    0                0                   0                \n",
       "100861873    0                0                   0                \n",
       "100861881    0                0                   0                \n",
       "100504642    0                0                   0                \n",
       "100041631    0                0                   0                \n",
       "100504702    0                0                   0                \n",
       "100040357    0                0                   0                \n",
       "100861808    0                0                   0                \n",
       "100504460    0                0                   0                \n",
       "100861837  500              200                  84                \n",
       "100861924   35                3                   2                \n",
       "170942    1274              469                 379                \n",
       "100861691    0                0                   0                \n",
       "100504472    0                0                   0                "
      ]
     },
     "metadata": {},
     "output_type": "display_data"
    },
    {
     "data": {
      "text/html": [
       "<ol class=list-inline>\n",
       "\t<li>27179</li>\n",
       "\t<li>9</li>\n",
       "</ol>\n"
      ],
      "text/latex": [
       "\\begin{enumerate*}\n",
       "\\item 27179\n",
       "\\item 9\n",
       "\\end{enumerate*}\n"
      ],
      "text/markdown": [
       "1. 27179\n",
       "2. 9\n",
       "\n",
       "\n"
      ],
      "text/plain": [
       "[1] 27179     9"
      ]
     },
     "metadata": {},
     "output_type": "display_data"
    }
   ],
   "source": [
    "x$counts\n",
    "dim(x$counts)"
   ]
  },
  {
   "cell_type": "code",
   "execution_count": 111,
   "metadata": {},
   "outputs": [
    {
     "data": {
      "text/plain": [
       "NULL"
      ]
     },
     "metadata": {},
     "output_type": "display_data"
    },
    {
     "data": {
      "text/plain": [
       "NULL"
      ]
     },
     "metadata": {},
     "output_type": "display_data"
    }
   ],
   "source": [
    "x$genes\n",
    "dim(x$genes)"
   ]
  },
  {
   "cell_type": "code",
   "execution_count": null,
   "metadata": {},
   "outputs": [],
   "source": []
  },
  {
   "cell_type": "code",
   "execution_count": null,
   "metadata": {},
   "outputs": [],
   "source": []
  },
  {
   "cell_type": "code",
   "execution_count": 112,
   "metadata": {},
   "outputs": [
    {
     "data": {
      "text/html": [
       "<ol class=list-inline>\n",
       "\t<li>'10_6_5_11'</li>\n",
       "\t<li>'9_6_5_11'</li>\n",
       "\t<li>'purep53'</li>\n",
       "\t<li>'JMS8-2'</li>\n",
       "\t<li>'JMS8-3'</li>\n",
       "\t<li>'JMS8-4'</li>\n",
       "\t<li>'JMS8-5'</li>\n",
       "\t<li>'JMS9-P7c'</li>\n",
       "\t<li>'JMS9-P8c'</li>\n",
       "</ol>\n"
      ],
      "text/latex": [
       "\\begin{enumerate*}\n",
       "\\item '10\\_6\\_5\\_11'\n",
       "\\item '9\\_6\\_5\\_11'\n",
       "\\item 'purep53'\n",
       "\\item 'JMS8-2'\n",
       "\\item 'JMS8-3'\n",
       "\\item 'JMS8-4'\n",
       "\\item 'JMS8-5'\n",
       "\\item 'JMS9-P7c'\n",
       "\\item 'JMS9-P8c'\n",
       "\\end{enumerate*}\n"
      ],
      "text/markdown": [
       "1. '10_6_5_11'\n",
       "2. '9_6_5_11'\n",
       "3. 'purep53'\n",
       "4. 'JMS8-2'\n",
       "5. 'JMS8-3'\n",
       "6. 'JMS8-4'\n",
       "7. 'JMS8-5'\n",
       "8. 'JMS9-P7c'\n",
       "9. 'JMS9-P8c'\n",
       "\n",
       "\n"
      ],
      "text/plain": [
       "[1] \"10_6_5_11\" \"9_6_5_11\"  \"purep53\"   \"JMS8-2\"    \"JMS8-3\"    \"JMS8-4\"   \n",
       "[7] \"JMS8-5\"    \"JMS9-P7c\"  \"JMS9-P8c\" "
      ]
     },
     "metadata": {},
     "output_type": "display_data"
    },
    {
     "data": {
      "text/html": [
       "<table>\n",
       "<thead><tr><th></th><th scope=col>files</th><th scope=col>group</th><th scope=col>lib.size</th><th scope=col>norm.factors</th><th scope=col>lane</th></tr></thead>\n",
       "<tbody>\n",
       "\t<tr><th scope=row>10_6_5_11</th><td>GSM1545535_10_6_5_11.txt</td><td>LP                      </td><td>32863052                </td><td>1                       </td><td>L004                    </td></tr>\n",
       "\t<tr><th scope=row>9_6_5_11</th><td>GSM1545536_9_6_5_11.txt </td><td>ML                      </td><td>35335491                </td><td>1                       </td><td>L004                    </td></tr>\n",
       "\t<tr><th scope=row>purep53</th><td>GSM1545538_purep53.txt  </td><td>Basal                   </td><td>57160817                </td><td>1                       </td><td>L004                    </td></tr>\n",
       "\t<tr><th scope=row>JMS8-2</th><td>GSM1545539_JMS8-2.txt   </td><td>Basal                   </td><td>51368625                </td><td>1                       </td><td>L006                    </td></tr>\n",
       "\t<tr><th scope=row>JMS8-3</th><td>GSM1545540_JMS8-3.txt   </td><td>ML                      </td><td>75795034                </td><td>1                       </td><td>L006                    </td></tr>\n",
       "\t<tr><th scope=row>JMS8-4</th><td>GSM1545541_JMS8-4.txt   </td><td>LP                      </td><td>60517657                </td><td>1                       </td><td>L006                    </td></tr>\n",
       "\t<tr><th scope=row>JMS8-5</th><td>GSM1545542_JMS8-5.txt   </td><td>Basal                   </td><td>55086324                </td><td>1                       </td><td>L006                    </td></tr>\n",
       "\t<tr><th scope=row>JMS9-P7c</th><td>GSM1545544_JMS9-P7c.txt </td><td>ML                      </td><td>21311068                </td><td>1                       </td><td>L008                    </td></tr>\n",
       "\t<tr><th scope=row>JMS9-P8c</th><td>GSM1545545_JMS9-P8c.txt </td><td>LP                      </td><td>19958838                </td><td>1                       </td><td>L008                    </td></tr>\n",
       "</tbody>\n",
       "</table>\n"
      ],
      "text/latex": [
       "\\begin{tabular}{r|lllll}\n",
       "  & files & group & lib.size & norm.factors & lane\\\\\n",
       "\\hline\n",
       "\t10\\_6\\_5\\_11 & GSM1545535\\_10\\_6\\_5\\_11.txt & LP                               & 32863052                         & 1                                & L004                            \\\\\n",
       "\t9\\_6\\_5\\_11 & GSM1545536\\_9\\_6\\_5\\_11.txt  & ML                               & 35335491                         & 1                                & L004                            \\\\\n",
       "\tpurep53 & GSM1545538\\_purep53.txt   & Basal                      & 57160817                   & 1                          & L004                      \\\\\n",
       "\tJMS8-2 & GSM1545539\\_JMS8-2.txt    & Basal                      & 51368625                   & 1                          & L006                      \\\\\n",
       "\tJMS8-3 & GSM1545540\\_JMS8-3.txt    & ML                         & 75795034                   & 1                          & L006                      \\\\\n",
       "\tJMS8-4 & GSM1545541\\_JMS8-4.txt    & LP                         & 60517657                   & 1                          & L006                      \\\\\n",
       "\tJMS8-5 & GSM1545542\\_JMS8-5.txt    & Basal                      & 55086324                   & 1                          & L006                      \\\\\n",
       "\tJMS9-P7c & GSM1545544\\_JMS9-P7c.txt  & ML                         & 21311068                   & 1                          & L008                      \\\\\n",
       "\tJMS9-P8c & GSM1545545\\_JMS9-P8c.txt  & LP                         & 19958838                   & 1                          & L008                      \\\\\n",
       "\\end{tabular}\n"
      ],
      "text/markdown": [
       "\n",
       "| <!--/--> | files | group | lib.size | norm.factors | lane | \n",
       "|---|---|---|---|---|---|---|---|---|\n",
       "| 10_6_5_11 | GSM1545535_10_6_5_11.txt | LP                       | 32863052                 | 1                        | L004                     | \n",
       "| 9_6_5_11 | GSM1545536_9_6_5_11.txt  | ML                       | 35335491                 | 1                        | L004                     | \n",
       "| purep53 | GSM1545538_purep53.txt   | Basal                    | 57160817                 | 1                        | L004                     | \n",
       "| JMS8-2 | GSM1545539_JMS8-2.txt    | Basal                    | 51368625                 | 1                        | L006                     | \n",
       "| JMS8-3 | GSM1545540_JMS8-3.txt    | ML                       | 75795034                 | 1                        | L006                     | \n",
       "| JMS8-4 | GSM1545541_JMS8-4.txt    | LP                       | 60517657                 | 1                        | L006                     | \n",
       "| JMS8-5 | GSM1545542_JMS8-5.txt    | Basal                    | 55086324                 | 1                        | L006                     | \n",
       "| JMS9-P7c | GSM1545544_JMS9-P7c.txt  | ML                       | 21311068                 | 1                        | L008                     | \n",
       "| JMS9-P8c | GSM1545545_JMS9-P8c.txt  | LP                       | 19958838                 | 1                        | L008                     | \n",
       "\n",
       "\n"
      ],
      "text/plain": [
       "          files                    group lib.size norm.factors lane\n",
       "10_6_5_11 GSM1545535_10_6_5_11.txt LP    32863052 1            L004\n",
       "9_6_5_11  GSM1545536_9_6_5_11.txt  ML    35335491 1            L004\n",
       "purep53   GSM1545538_purep53.txt   Basal 57160817 1            L004\n",
       "JMS8-2    GSM1545539_JMS8-2.txt    Basal 51368625 1            L006\n",
       "JMS8-3    GSM1545540_JMS8-3.txt    ML    75795034 1            L006\n",
       "JMS8-4    GSM1545541_JMS8-4.txt    LP    60517657 1            L006\n",
       "JMS8-5    GSM1545542_JMS8-5.txt    Basal 55086324 1            L006\n",
       "JMS9-P7c  GSM1545544_JMS9-P7c.txt  ML    21311068 1            L008\n",
       "JMS9-P8c  GSM1545545_JMS9-P8c.txt  LP    19958838 1            L008"
      ]
     },
     "metadata": {},
     "output_type": "display_data"
    }
   ],
   "source": [
    "samplenames <- substring(colnames(x), 12, nchar(colnames(x)))\n",
    "samplenames\n",
    "\n",
    "colnames(x) <- samplenames\n",
    "group <- as.factor(c(\"LP\", \"ML\", \"Basal\", \"Basal\", \"ML\", \"LP\", \"Basal\", \"ML\", \"LP\"))\n",
    "\n",
    "x$samples$group <- group\n",
    "lane <- as.factor(rep(c(\"L004\",\"L006\",\"L008\"), c(3,4,2)))\n",
    "x$samples$lane <- lane\n",
    "x$samples"
   ]
  },
  {
   "cell_type": "code",
   "execution_count": 113,
   "metadata": {},
   "outputs": [
    {
     "ename": "ERROR",
     "evalue": "Error in UseMethod(\"select_\"): no applicable method for 'select_' applied to an object of class \"c('OrganismDb', 'MultiDb')\"\n",
     "output_type": "error",
     "traceback": [
      "Error in UseMethod(\"select_\"): no applicable method for 'select_' applied to an object of class \"c('OrganismDb', 'MultiDb')\"\nTraceback:\n",
      "1. select(Mus.musculus, keys = geneid, columns = c(\"SYMBOL\", \"TXCHROM\"), \n .     keytype = \"ENTREZID\")",
      "2. select.default(Mus.musculus, keys = geneid, columns = c(\"SYMBOL\", \n .     \"TXCHROM\"), keytype = \"ENTREZID\")",
      "3. select_(.data, .dots = compat_as_lazy_dots(...))"
     ]
    }
   ],
   "source": [
    "geneid <- rownames(x)\n",
    "genes <- select(Mus.musculus, keys=geneid, columns=c(\"SYMBOL\", \"TXCHROM\"), \n",
    "                keytype=\"ENTREZID\")\n",
    "head(genes)"
   ]
  },
  {
   "cell_type": "code",
   "execution_count": null,
   "metadata": {
    "scrolled": false
   },
   "outputs": [],
   "source": [
    "genes <- genes[!duplicated(genes$ENTREZID),] # remove duplicated keeping on first occurrence of a gene\n",
    "x$genes <- genes # set new genes as the dataset with duplicates filtered\n",
    "x\n",
    "dim(x$genes)"
   ]
  },
  {
   "cell_type": "markdown",
   "metadata": {},
   "source": [
    "# DATA PRE-PROCESSING"
   ]
  },
  {
   "cell_type": "code",
   "execution_count": null,
   "metadata": {},
   "outputs": [],
   "source": [
    "cpm <- cpm(x)\n",
    "lcpm <- cpm(x, log=TRUE)"
   ]
  },
  {
   "cell_type": "markdown",
   "metadata": {},
   "source": [
    "## Removing genes that are lowly expressed"
   ]
  },
  {
   "cell_type": "code",
   "execution_count": null,
   "metadata": {},
   "outputs": [],
   "source": [
    "table(rowSums(x$counts==0)==9)\n",
    "\n",
    "\n",
    "keep.exprs <- rowSums(cpm>1)>=3\n",
    "x <- x[keep.exprs,, keep.lib.sizes=FALSE]\n",
    "dim(x)\n"
   ]
  },
  {
   "cell_type": "code",
   "execution_count": null,
   "metadata": {},
   "outputs": [],
   "source": [
    "\n",
    "library(RColorBrewer)\n",
    "nsamples <- ncol(x)\n",
    "col <- brewer.pal(nsamples, \"Paired\")\n",
    "par(mfrow=c(1,2))\n",
    "plot(density(lcpm[,1]), col=col[1], lwd=2, ylim=c(0,0.21), las=2, \n",
    "     main=\"\", xlab=\"\")\n",
    "title(main=\"A. Raw data\", xlab=\"Log-cpm\")\n",
    "abline(v=0, lty=3)\n",
    "for (i in 2:nsamples){\n",
    " den <- density(lcpm[,i])\n",
    " lines(den$x, den$y, col=col[i], lwd=2)\n",
    "}\n",
    "legend(\"topright\", samplenames, text.col=col, bty=\"n\")\n",
    "lcpm <- cpm(x, log=TRUE)\n",
    "plot(density(lcpm[,1]), col=col[1], lwd=2, ylim=c(0,0.21), las=2, \n",
    "     main=\"\", xlab=\"\")\n",
    "title(main=\"B. Filtered data\", xlab=\"Log-cpm\")\n",
    "abline(v=0, lty=3)\n",
    "for (i in 2:nsamples){\n",
    "   den <- density(lcpm[,i])\n",
    "   lines(den$x, den$y, col=col[i], lwd=2)\n",
    "}\n",
    "legend(\"topright\", samplenames, text.col=col, bty=\"n\")"
   ]
  },
  {
   "cell_type": "markdown",
   "metadata": {},
   "source": [
    "# Normalising Gene Expression Distributions"
   ]
  },
  {
   "cell_type": "code",
   "execution_count": null,
   "metadata": {},
   "outputs": [],
   "source": [
    "x <- calcNormFactors(x, method = \"TMM\")\n",
    "x$samples$norm.factors"
   ]
  },
  {
   "cell_type": "code",
   "execution_count": null,
   "metadata": {},
   "outputs": [],
   "source": [
    "x2 <- x\n",
    "x2$samples$norm.factors <- 1\n",
    "x2$counts[,1] <- ceiling(x2$counts[,1]*0.05)\n",
    "x2$counts[,2] <- x2$counts[,2]*5"
   ]
  },
  {
   "cell_type": "code",
   "execution_count": null,
   "metadata": {},
   "outputs": [],
   "source": [
    "par(mfrow=c(1,2))\n",
    "lcpm <- cpm(x2, log=TRUE)\n",
    "boxplot(lcpm, las=2, col=col, main=\"\")\n",
    "title(main=\"A. Example: Unnormalised data\",ylab=\"Log-cpm\")\n",
    "x2 <- calcNormFactors(x2)  \n",
    "x2$samples$norm.factors\n",
    "\n",
    "lcpm <- cpm(x2, log=TRUE)\n",
    "boxplot(lcpm, las=2, col=col, main=\"\")\n",
    "title(main=\"B. Example: Normalised data\",ylab=\"Log-cpm\")"
   ]
  },
  {
   "cell_type": "markdown",
   "metadata": {},
   "source": [
    "# Unsurpervised Clustering of Samples"
   ]
  },
  {
   "cell_type": "code",
   "execution_count": null,
   "metadata": {},
   "outputs": [],
   "source": [
    "lcpm <- cpm(x, log=TRUE)\n",
    "par(mfrow=c(1,2))\n",
    "col.group <- group\n",
    "levels(col.group) <-  brewer.pal(nlevels(col.group), \"Set1\")\n",
    "col.group <- as.character(col.group)\n",
    "col.lane <- lane\n",
    "levels(col.lane) <-  brewer.pal(nlevels(col.lane), \"Set2\")\n",
    "col.lane <- as.character(col.lane)\n",
    "plotMDS(lcpm, labels=group, col=col.group)\n",
    "title(main=\"A. Sample groups\")\n",
    "plotMDS(lcpm, labels=lane, col=col.lane, dim=c(3,4))\n",
    "title(main=\"B. Sequencing lanes\")\n"
   ]
  },
  {
   "cell_type": "code",
   "execution_count": null,
   "metadata": {},
   "outputs": [],
   "source": [
    "# Run this to use the Glimma package to create an interactive plot to look at many dimensions\n",
    "#glMDSPlot(lcpm, labels=paste(group, lane, sep=\"_\"), groups=x$samples[,c(2,5)], launch=FALSE)"
   ]
  },
  {
   "cell_type": "markdown",
   "metadata": {},
   "source": [
    "# Differential Expression Analysis"
   ]
  },
  {
   "cell_type": "markdown",
   "metadata": {},
   "source": [
    "## Creating a design matrix and contrasts"
   ]
  },
  {
   "cell_type": "markdown",
   "metadata": {},
   "source": [
    "## Removing heteroscedascity from count data."
   ]
  },
  {
   "cell_type": "code",
   "execution_count": null,
   "metadata": {
    "scrolled": true
   },
   "outputs": [],
   "source": [
    "par(mfrow=c(1,2))\n",
    "v <- voom(x, design, plot=TRUE)\n",
    "v\n",
    "\n",
    "vfit <- lmFit(v, design)\n",
    "vfit <- contrasts.fit(vfit, contrasts=contr.matrix)\n",
    "efit <- eBayes(vfit)\n",
    "plotSA(efit, main=\"Final model: Mean−variance trend\")"
   ]
  },
  {
   "cell_type": "markdown",
   "metadata": {},
   "source": [
    "## Examining the number of DE genes"
   ]
  },
  {
   "cell_type": "code",
   "execution_count": null,
   "metadata": {},
   "outputs": [],
   "source": [
    "summary(decideTests(efit))"
   ]
  },
  {
   "cell_type": "code",
   "execution_count": null,
   "metadata": {},
   "outputs": [],
   "source": [
    "tfit <- treat(vfit, lfc=1)\n",
    "dt <- decideTests(tfit)\n",
    "summary(dt)"
   ]
  },
  {
   "cell_type": "code",
   "execution_count": null,
   "metadata": {},
   "outputs": [],
   "source": [
    "de.common <- which(dt[,1]!=0 & dt[,2]!=0)\n",
    "length(de.common)\n",
    "\n",
    "head(tfit$genes$SYMBOL[de.common], n=20)\n",
    "\n",
    "vennDiagram(dt[,1:2], circle.col=c(\"turquoise\", \"salmon\"))"
   ]
  },
  {
   "cell_type": "markdown",
   "metadata": {},
   "source": [
    "## Examining individual DE genes from top to bottom"
   ]
  },
  {
   "cell_type": "code",
   "execution_count": null,
   "metadata": {},
   "outputs": [],
   "source": [
    "basal.vs.lp <- topTreat(tfit, coef=1, n=Inf)\n",
    "basal.vs.ml <- topTreat(tfit, coef=2, n=Inf)\n",
    "\n",
    "head(basal.vs.lp)\n",
    "head(basal.vs.ml)\n"
   ]
  },
  {
   "cell_type": "markdown",
   "metadata": {},
   "source": [
    "## Graphical representations of differential expression results"
   ]
  },
  {
   "cell_type": "code",
   "execution_count": null,
   "metadata": {},
   "outputs": [],
   "source": [
    "plotMD(tfit, column=1, status=dt[,1], main=colnames(tfit)[1], \n",
    "       xlim=c(-8,13))"
   ]
  },
  {
   "cell_type": "code",
   "execution_count": null,
   "metadata": {},
   "outputs": [],
   "source": [
    "\n",
    "library(gplots)\n",
    "basal.vs.lp.topgenes <- basal.vs.lp$ENTREZID[1:100]\n",
    "i <- which(v$genes$ENTREZID %in% basal.vs.lp.topgenes)\n",
    "mycol <- colorpanel(1000,\"blue\",\"white\",\"red\")\n",
    "heatmap.2(v$E[i,], scale=\"row\",\n",
    "   labRow=v$genes$SYMBOL[i], labCol=group, \n",
    "   col=mycol, trace=\"none\", density.info=\"none\", \n",
    "   margin=c(8,6), lhei=c(2,10), dendrogram=\"column\")"
   ]
  },
  {
   "cell_type": "markdown",
   "metadata": {},
   "source": [
    "## Gene set testing with camera"
   ]
  },
  {
   "cell_type": "code",
   "execution_count": null,
   "metadata": {},
   "outputs": [],
   "source": [
    "load(\"mouse_c2_v5p1.rda\")\n",
    "idx <- ids2indices(Mm.c2,id=rownames(v))\n",
    "cam.BasalvsLP <- camera(v,idx,design,contrast=contr.matrix[,1])\n",
    "head(cam.BasalvsLP,5)"
   ]
  },
  {
   "cell_type": "markdown",
   "metadata": {},
   "source": [
    "Barcode plot of LIM_MAMMARY_LUMINAL_MATURE_UP (red bars, top of plot) and LIM_MAMMARY_LUMINAL_MATURE_DN (blue bars, bottom of plot) gene sets in the LP versus ML contrast with an enrichment line for each set that shows the relative enrichment of the vertical bars in each part of the plot."
   ]
  },
  {
   "cell_type": "code",
   "execution_count": null,
   "metadata": {},
   "outputs": [],
   "source": [
    "barcodeplot(tfit$t[,3], index=idx$LIM_MAMMARY_LUMINAL_MATURE_UP, \n",
    "            index2=idx$LIM_MAMMARY_LUMINAL_MATURE_DN, main=\"LPvsML\")"
   ]
  },
  {
   "cell_type": "code",
   "execution_count": null,
   "metadata": {},
   "outputs": [],
   "source": [
    "res <- lfcShrink(dds, contrast=c(\"dex\",\"trt\",\"untrt\"), res=res)\n",
    "plotMA(res, ylim = c(-5, 5))"
   ]
  },
  {
   "cell_type": "code",
   "execution_count": null,
   "metadata": {},
   "outputs": [],
   "source": []
  }
 ],
 "metadata": {
  "kernelspec": {
   "display_name": "R",
   "language": "R",
   "name": "ir"
  },
  "language_info": {
   "codemirror_mode": "r",
   "file_extension": ".r",
   "mimetype": "text/x-r-source",
   "name": "R",
   "pygments_lexer": "r",
   "version": "3.5.0"
  }
 },
 "nbformat": 4,
 "nbformat_minor": 2
}
